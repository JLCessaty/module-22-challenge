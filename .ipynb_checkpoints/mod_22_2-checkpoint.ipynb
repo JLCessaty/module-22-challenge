{
 "cells": [
  {
   "cell_type": "code",
   "execution_count": 1,
   "metadata": {
    "colab": {
     "base_uri": "https://localhost:8080/"
    },
    "id": "CqAQlUS8ePkp",
    "outputId": "64a4066a-0a2d-4cbd-c040-5bd17dec59ee"
   },
   "outputs": [
    {
     "name": "stdout",
     "output_type": "stream",
     "text": [
      "Hit:1 https://cloud.r-project.org/bin/linux/ubuntu bionic-cran40/ InRelease\n",
      "Get:2 http://security.ubuntu.com/ubuntu bionic-security InRelease [88.7 kB]\n",
      "Hit:3 http://archive.ubuntu.com/ubuntu bionic InRelease\n",
      "Hit:4 http://ppa.launchpad.net/c2d4u.team/c2d4u4.0+/ubuntu bionic InRelease\n",
      "Ign:5 https://developer.download.nvidia.com/compute/machine-learning/repos/ubuntu1804/x86_64  InRelease\n",
      "Hit:6 https://developer.download.nvidia.com/compute/cuda/repos/ubuntu1804/x86_64  InRelease\n",
      "Hit:7 https://developer.download.nvidia.com/compute/machine-learning/repos/ubuntu1804/x86_64  Release\n",
      "Get:8 http://archive.ubuntu.com/ubuntu bionic-updates InRelease [88.7 kB]\n",
      "Hit:9 http://ppa.launchpad.net/cran/libgit2/ubuntu bionic InRelease\n",
      "Hit:11 http://ppa.launchpad.net/deadsnakes/ppa/ubuntu bionic InRelease\n",
      "Get:12 http://archive.ubuntu.com/ubuntu bionic-backports InRelease [83.3 kB]\n",
      "Hit:13 http://ppa.launchpad.net/graphics-drivers/ppa/ubuntu bionic InRelease\n",
      "Fetched 261 kB in 4s (70.8 kB/s)\n",
      "Reading package lists... Done\n"
     ]
    }
   ],
   "source": [
    "import os\n",
    "# Find the latest version of spark 3.2  from http://www.apache.org/dist/spark/ and enter as the spark version\n",
    "# For example:\n",
    "# spark_version = 'spark-3.2.2'\n",
    "spark_version = 'spark-3.2.2'\n",
    "\n",
    "os.environ['SPARK_VERSION']=spark_version\n",
    "\n",
    "# Install Spark and Java\n",
    "!apt-get update\n",
    "!apt-get install openjdk-8-jdk-headless -qq > /dev/null\n",
    "!wget -q http://www.apache.org/dist/spark/$SPARK_VERSION/$SPARK_VERSION-bin-hadoop2.7.tgz\n",
    "!tar xf $SPARK_VERSION-bin-hadoop2.7.tgz\n",
    "!pip install -q findspark\n",
    "\n",
    "# Set Environment Variables\n",
    "os.environ[\"JAVA_HOME\"] = \"/usr/lib/jvm/java-8-openjdk-amd64\"\n",
    "os.environ[\"SPARK_HOME\"] = f\"/content/{spark_version}-bin-hadoop2.7\"\n",
    "\n",
    "# Start a SparkSession\n",
    "import findspark\n",
    "findspark.init()"
   ]
  },
  {
   "cell_type": "code",
   "execution_count": 2,
   "metadata": {
    "colab": {
     "base_uri": "https://localhost:8080/"
    },
    "id": "r82PiBUteUmA",
    "outputId": "10f72166-db18-456f-8a75-c89c5d3ad7e5"
   },
   "outputs": [
    {
     "name": "stdout",
     "output_type": "stream",
     "text": [
      "--2022-11-11 19:48:13--  https://jdbc.postgresql.org/download/postgresql-42.2.9.jar\n",
      "Resolving jdbc.postgresql.org (jdbc.postgresql.org)... 72.32.157.228, 2001:4800:3e1:1::228\n",
      "Connecting to jdbc.postgresql.org (jdbc.postgresql.org)|72.32.157.228|:443... connected.\n",
      "HTTP request sent, awaiting response... 200 OK\n",
      "Length: 914037 (893K) [application/java-archive]\n",
      "Saving to: ‘postgresql-42.2.9.jar.1’\n",
      "\n",
      "postgresql-42.2.9.j 100%[===================>] 892.61K  1.26MB/s    in 0.7s    \n",
      "\n",
      "2022-11-11 19:48:15 (1.26 MB/s) - ‘postgresql-42.2.9.jar.1’ saved [914037/914037]\n",
      "\n"
     ]
    }
   ],
   "source": [
    "!wget https://jdbc.postgresql.org/download/postgresql-42.2.9.jar"
   ]
  },
  {
   "cell_type": "code",
   "execution_count": 3,
   "metadata": {
    "id": "hn8ZO9IZeUoV"
   },
   "outputs": [],
   "source": [
    "from pyspark.sql import SparkSession\n",
    "spark = SparkSession.builder.appName(\"mod22-2\").config(\"spark.driver.extraClassPath\",\"/content/postgresql-42.2.9.jar\").getOrCreate()"
   ]
  },
  {
   "cell_type": "code",
   "execution_count": 4,
   "metadata": {
    "colab": {
     "base_uri": "https://localhost:8080/"
    },
    "id": "NSBomrPQeUqy",
    "outputId": "07a19e63-5cc1-48ab-b21d-157085d1e3c2"
   },
   "outputs": [
    {
     "name": "stdout",
     "output_type": "stream",
     "text": [
      "+-----------+-----------+--------------+----------+--------------+--------------------+----------------+-----------+-------------+-----------+----+-----------------+--------------------+--------------------+-----------+\n",
      "|marketplace|customer_id|     review_id|product_id|product_parent|       product_title|product_category|star_rating|helpful_votes|total_votes|vine|verified_purchase|     review_headline|         review_body|review_date|\n",
      "+-----------+-----------+--------------+----------+--------------+--------------------+----------------+-----------+-------------+-----------+----+-----------------+--------------------+--------------------+-----------+\n",
      "|         US|    3653882|R3O9SGZBVQBV76|B00FALQ1ZC|     937001370|Invicta Women's 1...|         Watches|          5|            0|          0|   N|                Y|          Five Stars|Absolutely love t...| 2015-08-31|\n",
      "|         US|   14661224| RKH8BNC3L5DLF|B00D3RGO20|     484010722|Kenneth Cole New ...|         Watches|          5|            0|          0|   N|                Y|I love thiswatch ...|I love this watch...| 2015-08-31|\n",
      "|         US|   27324930|R2HLE8WKZSU3NL|B00DKYC7TK|     361166390|Ritche 22mm Black...|         Watches|          2|            1|          1|   N|                Y|           Two Stars|           Scratches| 2015-08-31|\n",
      "|         US|    7211452|R31U3UH5AZ42LL|B000EQS1JW|     958035625|Citizen Men's BM8...|         Watches|          5|            0|          0|   N|                Y|          Five Stars|It works well on ...| 2015-08-31|\n",
      "|         US|   12733322|R2SV659OUJ945Y|B00A6GFD7S|     765328221|Orient ER27009B M...|         Watches|          4|            0|          0|   N|                Y|Beautiful face, b...|Beautiful watch f...| 2015-08-31|\n",
      "|         US|    6576411| RA51CP8TR5A2L|B00EYSOSE8|     230493695|Casio Men's GW-94...|         Watches|          5|            0|          0|   N|                Y|       No complaints|i love this watch...| 2015-08-31|\n",
      "|         US|   11811565| RB2Q7DLDN6TH6|B00WM0QA3M|     549298279|Fossil Women's ES...|         Watches|          5|            1|          1|   N|                Y|          Five Stars|for my wife and s...| 2015-08-31|\n",
      "|         US|   49401598|R2RHFJV0UYBK3Y|B00A4EYBR0|     844009113|INFANTRY Mens Nig...|         Watches|          1|            1|          5|   N|                N|I was about to bu...|I was about to bu...| 2015-08-31|\n",
      "|         US|   45925069|R2Z6JOQ94LFHEP|B00MAMPGGE|     263720892|G-Shock Men's Gre...|         Watches|          5|            1|          2|   N|                Y|      Perfect watch!|Watch is perfect....| 2015-08-31|\n",
      "|         US|   44751341| RX27XIIWY5JPB|B004LBPB7Q|     124278407|Heiden Quad Watch...|         Watches|          4|            0|          0|   N|                Y|Great quality and...|Great quality and...| 2015-08-31|\n",
      "+-----------+-----------+--------------+----------+--------------+--------------------+----------------+-----------+-------------+-----------+----+-----------------+--------------------+--------------------+-----------+\n",
      "only showing top 10 rows\n",
      "\n"
     ]
    }
   ],
   "source": [
    "from pyspark import SparkFiles\n",
    "\n",
    "url = \"https://s3.amazonaws.com/amazon-reviews-pds/tsv/amazon_reviews_us_Watches_v1_00.tsv.gz\"\n",
    "spark.sparkContext.addFile(url)\n",
    "\n",
    "df = spark.read.option('header', 'true').csv(SparkFiles.get(\"amazon_reviews_us_Watches_v1_00.tsv.gz\"), inferSchema=True, sep='\\t', timestampFormat=\"mm/dd/yy\")\n",
    "df.show(10)"
   ]
  },
  {
   "cell_type": "code",
   "execution_count": 5,
   "metadata": {
    "colab": {
     "base_uri": "https://localhost:8080/"
    },
    "id": "nsvN77CSeUtQ",
    "outputId": "11c70632-94f5-4cfc-c090-fe9c67b80b48"
   },
   "outputs": [
    {
     "data": {
      "text/plain": [
       "960872"
      ]
     },
     "execution_count": 5,
     "metadata": {},
     "output_type": "execute_result"
    }
   ],
   "source": [
    "df.count()"
   ]
  },
  {
   "cell_type": "code",
   "execution_count": 6,
   "metadata": {
    "colab": {
     "base_uri": "https://localhost:8080/"
    },
    "id": "Exkf7py0eUvg",
    "outputId": "9eeca6d3-f0ee-4616-d9bc-ef5a5064aa54"
   },
   "outputs": [
    {
     "name": "stdout",
     "output_type": "stream",
     "text": [
      "+--------------+-----------+----------+--------------+-----------+--------------------+-----------+-------------+-----------+----+\n",
      "|     review_id|customer_id|product_id|product_parent|review_date|       product_title|star_rating|helpful_votes|total_votes|vine|\n",
      "+--------------+-----------+----------+--------------+-----------+--------------------+-----------+-------------+-----------+----+\n",
      "|R3O9SGZBVQBV76|    3653882|B00FALQ1ZC|     937001370| 2015-08-31|Invicta Women's 1...|          5|            0|          0|   N|\n",
      "| RKH8BNC3L5DLF|   14661224|B00D3RGO20|     484010722| 2015-08-31|Kenneth Cole New ...|          5|            0|          0|   N|\n",
      "|R2HLE8WKZSU3NL|   27324930|B00DKYC7TK|     361166390| 2015-08-31|Ritche 22mm Black...|          2|            1|          1|   N|\n",
      "|R31U3UH5AZ42LL|    7211452|B000EQS1JW|     958035625| 2015-08-31|Citizen Men's BM8...|          5|            0|          0|   N|\n",
      "|R2SV659OUJ945Y|   12733322|B00A6GFD7S|     765328221| 2015-08-31|Orient ER27009B M...|          4|            0|          0|   N|\n",
      "| RA51CP8TR5A2L|    6576411|B00EYSOSE8|     230493695| 2015-08-31|Casio Men's GW-94...|          5|            0|          0|   N|\n",
      "| RB2Q7DLDN6TH6|   11811565|B00WM0QA3M|     549298279| 2015-08-31|Fossil Women's ES...|          5|            1|          1|   N|\n",
      "|R2RHFJV0UYBK3Y|   49401598|B00A4EYBR0|     844009113| 2015-08-31|INFANTRY Mens Nig...|          1|            1|          5|   N|\n",
      "|R2Z6JOQ94LFHEP|   45925069|B00MAMPGGE|     263720892| 2015-08-31|G-Shock Men's Gre...|          5|            1|          2|   N|\n",
      "| RX27XIIWY5JPB|   44751341|B004LBPB7Q|     124278407| 2015-08-31|Heiden Quad Watch...|          4|            0|          0|   N|\n",
      "|R15C7QEZT0LGZN|    9962330|B00KGTVGKS|      28017857| 2015-08-31|Fossil Women's ES...|          4|            2|          2|   N|\n",
      "|R361XSS37V0NCZ|   16097204|B0039UT5OU|     685450910| 2015-08-31|Casio General Men...|          1|            0|          0|   N|\n",
      "| ROTNLALUAJAUB|   51330346|B00MPF0XJQ|     767769082| 2015-08-31|2Tone Gold Silver...|          3|            0|          0|   N|\n",
      "|R2DYX7QU6BGOHR|    4201739|B003P1OHHS|     648595227| 2015-08-31|Bulova Men's 98B1...|          5|            0|          0|   N|\n",
      "| RWASY7FKI7QOT|   26339765|B00R70YEOE|     457338020| 2015-08-31|Casio - G-Shock -...|          5|            2|          3|   N|\n",
      "|R2KKYZIN3CCL21|    2692576|B000FVE3BG|     824370661| 2015-08-31|Invicta Men's 332...|          5|            0|          0|   N|\n",
      "|R22H4FGVD5O52O|   44713366|B008X6JB12|     814431355| 2015-08-31|Seiko Women's SUT...|          4|            1|          1|   N|\n",
      "|R11UACZERCM4ZY|   32778769|B0040UOFPW|     187700878| 2015-08-31|Anne Klein Women'...|          5|            0|          0|   N|\n",
      "|R1AT8NQ38UQOL6|   27258523|B00UR2R5UY|     594315262| 2015-08-31|Guess U13630G1 Me...|          5|            0|          0|   N|\n",
      "|R2NCZRQGIF1Q75|   42646538|B00HFF57L0|     520810507| 2015-08-31|Nixon Men's Geo V...|          4|            0|          0|   N|\n",
      "+--------------+-----------+----------+--------------+-----------+--------------------+-----------+-------------+-----------+----+\n",
      "only showing top 20 rows\n",
      "\n"
     ]
    }
   ],
   "source": [
    "review_df = df.select([\"review_id\", \"customer_id\", \"product_id\", \"product_parent\", \"review_date\", \"product_title\", \"star_rating\", \"helpful_votes\", \"total_votes\", \"vine\"])\n",
    "review_df.show()"
   ]
  },
  {
   "cell_type": "code",
   "execution_count": 7,
   "metadata": {
    "id": "M0GybJ72eUx9"
   },
   "outputs": [],
   "source": [
    "custDF = review_df.groupBy(\"customer_id\").count()"
   ]
  },
  {
   "cell_type": "code",
   "execution_count": 8,
   "metadata": {
    "colab": {
     "base_uri": "https://localhost:8080/"
    },
    "id": "NjYQSxWceU0H",
    "outputId": "b8f4a7b0-831f-4103-adef-b5d547474ae5"
   },
   "outputs": [
    {
     "name": "stdout",
     "output_type": "stream",
     "text": [
      "+-----------+-----+\n",
      "|customer_id|count|\n",
      "+-----------+-----+\n",
      "|    1567510|    1|\n",
      "|   19502021|    1|\n",
      "|   12819130|    1|\n",
      "|   35329257|    2|\n",
      "|     108460|    1|\n",
      "|    5453476|    1|\n",
      "|   29913055|    1|\n",
      "|   30717305|    1|\n",
      "|    1570030|    1|\n",
      "|   19032020|    1|\n",
      "|   44178035|    1|\n",
      "|   26079415|    2|\n",
      "|   14230926|    1|\n",
      "|   43478048|    2|\n",
      "|   43694941|    1|\n",
      "|   12318815|    3|\n",
      "|   13731855|    1|\n",
      "|     740134|    1|\n",
      "|   41956754|    1|\n",
      "|   20324070|    3|\n",
      "+-----------+-----+\n",
      "only showing top 20 rows\n",
      "\n"
     ]
    }
   ],
   "source": [
    "custDF = custDF.na.drop(subset=[\"customer_id\"])\n",
    "custDF.show()"
   ]
  },
  {
   "cell_type": "code",
   "execution_count": 9,
   "metadata": {
    "colab": {
     "base_uri": "https://localhost:8080/"
    },
    "id": "Av_uDCk-MAoa",
    "outputId": "9b68a3e4-a942-46e0-b65b-f926e6df1f60"
   },
   "outputs": [
    {
     "name": "stdout",
     "output_type": "stream",
     "text": [
      "+-------------+-----+\n",
      "|PKcustomer_id|count|\n",
      "+-------------+-----+\n",
      "|1567510      |1    |\n",
      "|19502021     |1    |\n",
      "|12819130     |1    |\n",
      "|35329257     |2    |\n",
      "|108460       |1    |\n",
      "|5453476      |1    |\n",
      "|29913055     |1    |\n",
      "|30717305     |1    |\n",
      "|1570030      |1    |\n",
      "|19032020     |1    |\n",
      "|44178035     |1    |\n",
      "|26079415     |2    |\n",
      "|14230926     |1    |\n",
      "|43478048     |2    |\n",
      "|43694941     |1    |\n",
      "|12318815     |3    |\n",
      "|13731855     |1    |\n",
      "|740134       |1    |\n",
      "|41956754     |1    |\n",
      "|20324070     |3    |\n",
      "+-------------+-----+\n",
      "only showing top 20 rows\n",
      "\n"
     ]
    }
   ],
   "source": [
    "custDF = custDF.withColumnRenamed(\"customer_id\",\"PKcustomer_id\")\n",
    "custDF.show(truncate=False)"
   ]
  },
  {
   "cell_type": "code",
   "execution_count": 10,
   "metadata": {
    "colab": {
     "base_uri": "https://localhost:8080/"
    },
    "id": "DRRKFFBPPCjR",
    "outputId": "1161984a-17d9-4d18-9e98-fcb65b6612ca"
   },
   "outputs": [
    {
     "data": {
      "text/plain": [
       "719914"
      ]
     },
     "execution_count": 10,
     "metadata": {},
     "output_type": "execute_result"
    }
   ],
   "source": [
    "custDF.count()"
   ]
  },
  {
   "cell_type": "code",
   "execution_count": 11,
   "metadata": {
    "colab": {
     "base_uri": "https://localhost:8080/"
    },
    "id": "Mh79UP7689yM",
    "outputId": "5346b2ca-9c82-4566-d77f-e9df1c299925"
   },
   "outputs": [
    {
     "name": "stdout",
     "output_type": "stream",
     "text": [
      "+--------------+-----------+----------+--------------+-----------+\n",
      "|     review_id|customer_id|product_id|product_parent|review_date|\n",
      "+--------------+-----------+----------+--------------+-----------+\n",
      "|R3O9SGZBVQBV76|    3653882|B00FALQ1ZC|     937001370| 2015-08-31|\n",
      "| RKH8BNC3L5DLF|   14661224|B00D3RGO20|     484010722| 2015-08-31|\n",
      "|R2HLE8WKZSU3NL|   27324930|B00DKYC7TK|     361166390| 2015-08-31|\n",
      "|R31U3UH5AZ42LL|    7211452|B000EQS1JW|     958035625| 2015-08-31|\n",
      "|R2SV659OUJ945Y|   12733322|B00A6GFD7S|     765328221| 2015-08-31|\n",
      "| RA51CP8TR5A2L|    6576411|B00EYSOSE8|     230493695| 2015-08-31|\n",
      "| RB2Q7DLDN6TH6|   11811565|B00WM0QA3M|     549298279| 2015-08-31|\n",
      "|R2RHFJV0UYBK3Y|   49401598|B00A4EYBR0|     844009113| 2015-08-31|\n",
      "|R2Z6JOQ94LFHEP|   45925069|B00MAMPGGE|     263720892| 2015-08-31|\n",
      "| RX27XIIWY5JPB|   44751341|B004LBPB7Q|     124278407| 2015-08-31|\n",
      "|R15C7QEZT0LGZN|    9962330|B00KGTVGKS|      28017857| 2015-08-31|\n",
      "|R361XSS37V0NCZ|   16097204|B0039UT5OU|     685450910| 2015-08-31|\n",
      "| ROTNLALUAJAUB|   51330346|B00MPF0XJQ|     767769082| 2015-08-31|\n",
      "|R2DYX7QU6BGOHR|    4201739|B003P1OHHS|     648595227| 2015-08-31|\n",
      "| RWASY7FKI7QOT|   26339765|B00R70YEOE|     457338020| 2015-08-31|\n",
      "|R2KKYZIN3CCL21|    2692576|B000FVE3BG|     824370661| 2015-08-31|\n",
      "|R22H4FGVD5O52O|   44713366|B008X6JB12|     814431355| 2015-08-31|\n",
      "|R11UACZERCM4ZY|   32778769|B0040UOFPW|     187700878| 2015-08-31|\n",
      "|R1AT8NQ38UQOL6|   27258523|B00UR2R5UY|     594315262| 2015-08-31|\n",
      "|R2NCZRQGIF1Q75|   42646538|B00HFF57L0|     520810507| 2015-08-31|\n",
      "+--------------+-----------+----------+--------------+-----------+\n",
      "only showing top 20 rows\n",
      "\n"
     ]
    }
   ],
   "source": [
    "from pyspark.sql.functions import to_date\n",
    "# Review DataFrame\n",
    "review_id_df = review_df.select([\"review_id\", \"customer_id\", \"product_id\", \"product_parent\", to_date(\"review_date\", 'yyyy-MM-dd').alias(\"review_date\")])\n",
    "review_id_df.show()"
   ]
  },
  {
   "cell_type": "code",
   "execution_count": 12,
   "metadata": {
    "colab": {
     "base_uri": "https://localhost:8080/"
    },
    "id": "iAwu_L5zGhpc",
    "outputId": "977ff639-8c99-461d-f73c-4e9a4897b073"
   },
   "outputs": [
    {
     "name": "stdout",
     "output_type": "stream",
     "text": [
      "+--------------+-----------+----------+--------------+-----------+\n",
      "|     review_id|customer_id|product_id|product_parent|review_date|\n",
      "+--------------+-----------+----------+--------------+-----------+\n",
      "|R3O9SGZBVQBV76|    3653882|B00FALQ1ZC|     937001370| 2015-08-31|\n",
      "| RKH8BNC3L5DLF|   14661224|B00D3RGO20|     484010722| 2015-08-31|\n",
      "|R2HLE8WKZSU3NL|   27324930|B00DKYC7TK|     361166390| 2015-08-31|\n",
      "|R31U3UH5AZ42LL|    7211452|B000EQS1JW|     958035625| 2015-08-31|\n",
      "|R2SV659OUJ945Y|   12733322|B00A6GFD7S|     765328221| 2015-08-31|\n",
      "| RA51CP8TR5A2L|    6576411|B00EYSOSE8|     230493695| 2015-08-31|\n",
      "| RB2Q7DLDN6TH6|   11811565|B00WM0QA3M|     549298279| 2015-08-31|\n",
      "|R2RHFJV0UYBK3Y|   49401598|B00A4EYBR0|     844009113| 2015-08-31|\n",
      "|R2Z6JOQ94LFHEP|   45925069|B00MAMPGGE|     263720892| 2015-08-31|\n",
      "| RX27XIIWY5JPB|   44751341|B004LBPB7Q|     124278407| 2015-08-31|\n",
      "|R15C7QEZT0LGZN|    9962330|B00KGTVGKS|      28017857| 2015-08-31|\n",
      "|R361XSS37V0NCZ|   16097204|B0039UT5OU|     685450910| 2015-08-31|\n",
      "| ROTNLALUAJAUB|   51330346|B00MPF0XJQ|     767769082| 2015-08-31|\n",
      "|R2DYX7QU6BGOHR|    4201739|B003P1OHHS|     648595227| 2015-08-31|\n",
      "| RWASY7FKI7QOT|   26339765|B00R70YEOE|     457338020| 2015-08-31|\n",
      "|R2KKYZIN3CCL21|    2692576|B000FVE3BG|     824370661| 2015-08-31|\n",
      "|R22H4FGVD5O52O|   44713366|B008X6JB12|     814431355| 2015-08-31|\n",
      "|R11UACZERCM4ZY|   32778769|B0040UOFPW|     187700878| 2015-08-31|\n",
      "|R1AT8NQ38UQOL6|   27258523|B00UR2R5UY|     594315262| 2015-08-31|\n",
      "|R2NCZRQGIF1Q75|   42646538|B00HFF57L0|     520810507| 2015-08-31|\n",
      "+--------------+-----------+----------+--------------+-----------+\n",
      "only showing top 20 rows\n",
      "\n"
     ]
    }
   ],
   "source": [
    "review_id_df = review_id_df.na.drop(subset=[\"review_id\"])\n",
    "review_id_df.show()"
   ]
  },
  {
   "cell_type": "code",
   "execution_count": 13,
   "metadata": {
    "colab": {
     "base_uri": "https://localhost:8080/"
    },
    "id": "03dprr1PMZV2",
    "outputId": "49d25a1b-8337-4d1c-f0fa-e58742d9c9a1"
   },
   "outputs": [
    {
     "data": {
      "text/plain": [
       "960872"
      ]
     },
     "execution_count": 13,
     "metadata": {},
     "output_type": "execute_result"
    }
   ],
   "source": [
    "review_id_df.count()"
   ]
  },
  {
   "cell_type": "code",
   "execution_count": 14,
   "metadata": {
    "colab": {
     "base_uri": "https://localhost:8080/"
    },
    "id": "pkX3cFtf890y",
    "outputId": "1a54297d-a776-4dd6-84c9-1bd670ae997f"
   },
   "outputs": [
    {
     "name": "stdout",
     "output_type": "stream",
     "text": [
      "+----------+--------------------+\n",
      "|product_id|       product_title|\n",
      "+----------+--------------------+\n",
      "|B00FALQ1ZC|Invicta Women's 1...|\n",
      "|B00D3RGO20|Kenneth Cole New ...|\n",
      "|B00DKYC7TK|Ritche 22mm Black...|\n",
      "|B000EQS1JW|Citizen Men's BM8...|\n",
      "|B00A6GFD7S|Orient ER27009B M...|\n",
      "|B00EYSOSE8|Casio Men's GW-94...|\n",
      "|B00WM0QA3M|Fossil Women's ES...|\n",
      "|B00A4EYBR0|INFANTRY Mens Nig...|\n",
      "|B00MAMPGGE|G-Shock Men's Gre...|\n",
      "|B004LBPB7Q|Heiden Quad Watch...|\n",
      "|B00KGTVGKS|Fossil Women's ES...|\n",
      "|B0039UT5OU|Casio General Men...|\n",
      "|B00MPF0XJQ|2Tone Gold Silver...|\n",
      "|B003P1OHHS|Bulova Men's 98B1...|\n",
      "|B00R70YEOE|Casio - G-Shock -...|\n",
      "|B000FVE3BG|Invicta Men's 332...|\n",
      "|B008X6JB12|Seiko Women's SUT...|\n",
      "|B0040UOFPW|Anne Klein Women'...|\n",
      "|B00UR2R5UY|Guess U13630G1 Me...|\n",
      "|B00HFF57L0|Nixon Men's Geo V...|\n",
      "+----------+--------------------+\n",
      "only showing top 20 rows\n",
      "\n"
     ]
    }
   ],
   "source": [
    "products_df = review_df.select([\"product_id\", \"product_title\"])\n",
    "products_df.show()"
   ]
  },
  {
   "cell_type": "code",
   "execution_count": 15,
   "metadata": {
    "colab": {
     "base_uri": "https://localhost:8080/"
    },
    "id": "9T69T_kxEcgx",
    "outputId": "c167a964-e5e1-4b28-d2d9-7a55214d78a9"
   },
   "outputs": [
    {
     "name": "stdout",
     "output_type": "stream",
     "text": [
      "+----------+--------------------+-----+\n",
      "|product_id|       product_title|count|\n",
      "+----------+--------------------+-----+\n",
      "|B00EVX7V1I|Game Time Women's...|   18|\n",
      "|B009S4DODY|XOXO Women's XO55...|   11|\n",
      "|B00LBKXQRW|Anne Klein Women'...|    1|\n",
      "|B0009P679Y|Invicta Men's 993...|   26|\n",
      "|B00DHF30RU|M&c Women's | Cla...|    2|\n",
      "|B00NIDA43Y|GuTe Classic Skel...|    4|\n",
      "|B008EQDDPQ|Nautica Men's N13...|    6|\n",
      "|B004VRBZ66|Timex Men's T2N63...|   37|\n",
      "|B009BEO81I|        Fossil Riley|   95|\n",
      "|B008B39MTI|XOXO Women's XO55...|  108|\n",
      "|B00TGPM8PU|Handmade Wooden W...|    2|\n",
      "|B00VNXQQQ0|Eterna 2520-41-64...|    2|\n",
      "|B00B1PV1C4|Nautica Men's N19...|    3|\n",
      "|B00N1Y8TQ4|Tissot Men's T095...|    3|\n",
      "|B00G6DBTY6|red line Men's RL...|    1|\n",
      "|B00HM04AYI|Columbia Men's Fi...|    1|\n",
      "|B00VI8HB96|GUESS I90176L1 Wo...|    1|\n",
      "|B00IT25WJU|LanTac DGN556B Dr...|   57|\n",
      "|B0106S12XE|Skmei S Shock Ana...|    3|\n",
      "|B00FPSJ63Y|Michael Kors Ladi...|    7|\n",
      "+----------+--------------------+-----+\n",
      "only showing top 20 rows\n",
      "\n"
     ]
    }
   ],
   "source": [
    "products_df = products_df.groupBy(\"product_id\",\"product_title\").count()\n",
    "products_df.show()\n"
   ]
  },
  {
   "cell_type": "code",
   "execution_count": 16,
   "metadata": {
    "colab": {
     "base_uri": "https://localhost:8080/"
    },
    "id": "L6SgyJvEExc7",
    "outputId": "1ee1a62a-2997-448a-9c33-ff45a95d762b"
   },
   "outputs": [
    {
     "name": "stdout",
     "output_type": "stream",
     "text": [
      "+----------+--------------------+-----+\n",
      "|product_id|       product_title|count|\n",
      "+----------+--------------------+-----+\n",
      "|B00EVX7V1I|Game Time Women's...|   18|\n",
      "|B009S4DODY|XOXO Women's XO55...|   11|\n",
      "|B00LBKXQRW|Anne Klein Women'...|    1|\n",
      "|B0009P679Y|Invicta Men's 993...|   26|\n",
      "|B00DHF30RU|M&c Women's | Cla...|    2|\n",
      "|B00NIDA43Y|GuTe Classic Skel...|    4|\n",
      "|B008EQDDPQ|Nautica Men's N13...|    6|\n",
      "|B004VRBZ66|Timex Men's T2N63...|   37|\n",
      "|B009BEO81I|        Fossil Riley|   95|\n",
      "|B008B39MTI|XOXO Women's XO55...|  108|\n",
      "|B00TGPM8PU|Handmade Wooden W...|    2|\n",
      "|B00VNXQQQ0|Eterna 2520-41-64...|    2|\n",
      "|B00B1PV1C4|Nautica Men's N19...|    3|\n",
      "|B00N1Y8TQ4|Tissot Men's T095...|    3|\n",
      "|B00G6DBTY6|red line Men's RL...|    1|\n",
      "|B00HM04AYI|Columbia Men's Fi...|    1|\n",
      "|B00VI8HB96|GUESS I90176L1 Wo...|    1|\n",
      "|B00IT25WJU|LanTac DGN556B Dr...|   57|\n",
      "|B0106S12XE|Skmei S Shock Ana...|    3|\n",
      "|B00FPSJ63Y|Michael Kors Ladi...|    7|\n",
      "+----------+--------------------+-----+\n",
      "only showing top 20 rows\n",
      "\n"
     ]
    }
   ],
   "source": [
    "products_df = products_df.na.drop(subset=[\"product_id\"])\n",
    "products_df.show()"
   ]
  },
  {
   "cell_type": "code",
   "execution_count": 17,
   "metadata": {
    "colab": {
     "base_uri": "https://localhost:8080/"
    },
    "id": "jest_iO4NFiw",
    "outputId": "29416a01-650a-41b3-b494-4b92c0de1b96"
   },
   "outputs": [
    {
     "name": "stdout",
     "output_type": "stream",
     "text": [
      "+------------+--------------------+-----+\n",
      "|PKproduct_id|       product_title|count|\n",
      "+------------+--------------------+-----+\n",
      "|  B00EVX7V1I|Game Time Women's...|   18|\n",
      "|  B009S4DODY|XOXO Women's XO55...|   11|\n",
      "|  B00LBKXQRW|Anne Klein Women'...|    1|\n",
      "|  B0009P679Y|Invicta Men's 993...|   26|\n",
      "|  B00DHF30RU|M&c Women's | Cla...|    2|\n",
      "|  B00NIDA43Y|GuTe Classic Skel...|    4|\n",
      "|  B008EQDDPQ|Nautica Men's N13...|    6|\n",
      "|  B004VRBZ66|Timex Men's T2N63...|   37|\n",
      "|  B009BEO81I|        Fossil Riley|   95|\n",
      "|  B008B39MTI|XOXO Women's XO55...|  108|\n",
      "|  B00TGPM8PU|Handmade Wooden W...|    2|\n",
      "|  B00VNXQQQ0|Eterna 2520-41-64...|    2|\n",
      "|  B00B1PV1C4|Nautica Men's N19...|    3|\n",
      "|  B00N1Y8TQ4|Tissot Men's T095...|    3|\n",
      "|  B00G6DBTY6|red line Men's RL...|    1|\n",
      "|  B00HM04AYI|Columbia Men's Fi...|    1|\n",
      "|  B00VI8HB96|GUESS I90176L1 Wo...|    1|\n",
      "|  B00IT25WJU|LanTac DGN556B Dr...|   57|\n",
      "|  B0106S12XE|Skmei S Shock Ana...|    3|\n",
      "|  B00FPSJ63Y|Michael Kors Ladi...|    7|\n",
      "+------------+--------------------+-----+\n",
      "only showing top 20 rows\n",
      "\n"
     ]
    }
   ],
   "source": [
    "products_df = products_df.withColumnRenamed(\"product_id\",\"PKproduct_id\")\n",
    "products_df.show()"
   ]
  },
  {
   "cell_type": "code",
   "execution_count": 18,
   "metadata": {
    "colab": {
     "base_uri": "https://localhost:8080/"
    },
    "id": "-b7r043DPY7P",
    "outputId": "8c393cae-3213-4e93-b248-41fe3d4360c5"
   },
   "outputs": [
    {
     "data": {
      "text/plain": [
       "149705"
      ]
     },
     "execution_count": 18,
     "metadata": {},
     "output_type": "execute_result"
    }
   ],
   "source": [
    "products_df.count()"
   ]
  },
  {
   "cell_type": "code",
   "execution_count": 19,
   "metadata": {
    "colab": {
     "base_uri": "https://localhost:8080/"
    },
    "id": "7gJpD-tM893N",
    "outputId": "bf497d87-e23d-452f-b843-e63c5f44dd9d"
   },
   "outputs": [
    {
     "name": "stdout",
     "output_type": "stream",
     "text": [
      "+--------------+-----------+-------------+-----------+----+\n",
      "|     review_id|star_rating|helpful_votes|total_votes|vine|\n",
      "+--------------+-----------+-------------+-----------+----+\n",
      "|R3O9SGZBVQBV76|          5|            0|          0|   N|\n",
      "| RKH8BNC3L5DLF|          5|            0|          0|   N|\n",
      "|R2HLE8WKZSU3NL|          2|            1|          1|   N|\n",
      "|R31U3UH5AZ42LL|          5|            0|          0|   N|\n",
      "|R2SV659OUJ945Y|          4|            0|          0|   N|\n",
      "| RA51CP8TR5A2L|          5|            0|          0|   N|\n",
      "| RB2Q7DLDN6TH6|          5|            1|          1|   N|\n",
      "|R2RHFJV0UYBK3Y|          1|            1|          5|   N|\n",
      "|R2Z6JOQ94LFHEP|          5|            1|          2|   N|\n",
      "| RX27XIIWY5JPB|          4|            0|          0|   N|\n",
      "|R15C7QEZT0LGZN|          4|            2|          2|   N|\n",
      "|R361XSS37V0NCZ|          1|            0|          0|   N|\n",
      "| ROTNLALUAJAUB|          3|            0|          0|   N|\n",
      "|R2DYX7QU6BGOHR|          5|            0|          0|   N|\n",
      "| RWASY7FKI7QOT|          5|            2|          3|   N|\n",
      "|R2KKYZIN3CCL21|          5|            0|          0|   N|\n",
      "|R22H4FGVD5O52O|          4|            1|          1|   N|\n",
      "|R11UACZERCM4ZY|          5|            0|          0|   N|\n",
      "|R1AT8NQ38UQOL6|          5|            0|          0|   N|\n",
      "|R2NCZRQGIF1Q75|          4|            0|          0|   N|\n",
      "+--------------+-----------+-------------+-----------+----+\n",
      "only showing top 20 rows\n",
      "\n"
     ]
    }
   ],
   "source": [
    "vine_df=review_df.select([\"review_id\", \"star_rating\", \"helpful_votes\", \"total_votes\", \"vine\"])\n",
    "vine_df.show()"
   ]
  },
  {
   "cell_type": "code",
   "execution_count": 20,
   "metadata": {
    "colab": {
     "base_uri": "https://localhost:8080/"
    },
    "id": "LL66AH1VMxwG",
    "outputId": "0f8beaa0-6a47-405f-bb64-d36d89ef528c"
   },
   "outputs": [
    {
     "name": "stdout",
     "output_type": "stream",
     "text": [
      "+--------------+-----------+-------------+-----------+----+\n",
      "|   PKreview_id|star_rating|helpful_votes|total_votes|vine|\n",
      "+--------------+-----------+-------------+-----------+----+\n",
      "|R3O9SGZBVQBV76|          5|            0|          0|   N|\n",
      "| RKH8BNC3L5DLF|          5|            0|          0|   N|\n",
      "|R2HLE8WKZSU3NL|          2|            1|          1|   N|\n",
      "|R31U3UH5AZ42LL|          5|            0|          0|   N|\n",
      "|R2SV659OUJ945Y|          4|            0|          0|   N|\n",
      "| RA51CP8TR5A2L|          5|            0|          0|   N|\n",
      "| RB2Q7DLDN6TH6|          5|            1|          1|   N|\n",
      "|R2RHFJV0UYBK3Y|          1|            1|          5|   N|\n",
      "|R2Z6JOQ94LFHEP|          5|            1|          2|   N|\n",
      "| RX27XIIWY5JPB|          4|            0|          0|   N|\n",
      "|R15C7QEZT0LGZN|          4|            2|          2|   N|\n",
      "|R361XSS37V0NCZ|          1|            0|          0|   N|\n",
      "| ROTNLALUAJAUB|          3|            0|          0|   N|\n",
      "|R2DYX7QU6BGOHR|          5|            0|          0|   N|\n",
      "| RWASY7FKI7QOT|          5|            2|          3|   N|\n",
      "|R2KKYZIN3CCL21|          5|            0|          0|   N|\n",
      "|R22H4FGVD5O52O|          4|            1|          1|   N|\n",
      "|R11UACZERCM4ZY|          5|            0|          0|   N|\n",
      "|R1AT8NQ38UQOL6|          5|            0|          0|   N|\n",
      "|R2NCZRQGIF1Q75|          4|            0|          0|   N|\n",
      "+--------------+-----------+-------------+-----------+----+\n",
      "only showing top 20 rows\n",
      "\n"
     ]
    }
   ],
   "source": [
    "vine_df = vine_df.withColumnRenamed(\"review_id\",\"PKreview_id\")\n",
    "vine_df.show()"
   ]
  },
  {
   "cell_type": "code",
   "execution_count": 21,
   "metadata": {
    "colab": {
     "base_uri": "https://localhost:8080/"
    },
    "id": "G5OS0t-1PuuC",
    "outputId": "d4ea389d-3906-4ea1-e3ec-b258f7da94e3"
   },
   "outputs": [
    {
     "data": {
      "text/plain": [
       "960872"
      ]
     },
     "execution_count": 21,
     "metadata": {},
     "output_type": "execute_result"
    }
   ],
   "source": [
    "vine_df.count()"
   ]
  },
  {
   "cell_type": "markdown",
   "metadata": {
    "id": "FKjD2fKbPqvu"
   },
   "source": []
  },
  {
   "cell_type": "code",
   "execution_count": 24,
   "metadata": {
    "id": "knwpf6E_895q"
   },
   "outputs": [],
   "source": [
    "mode = \"append\"\n",
    "jdbc_url=\"jdbc:postgresql://mod22chall3.cnjcwpxfmruz.us-east-1.rds.amazonaws.com:5432/<>\"\n",
    "config = {\"user\":\"<>\", \n",
    "          \"password\": \"<>\", \n",
    "          \"driver\":\"org.postgresql.Driver\"}"
   ]
  },
  {
   "cell_type": "code",
   "execution_count": null,
   "metadata": {
    "id": "sgmg0mO28973"
   },
   "outputs": [],
   "source": [
    "review_id_df.write.jdbc(url=jdbc_url, table='review_id', mode=mode, properties=config)"
   ]
  },
  {
   "cell_type": "code",
   "execution_count": null,
   "metadata": {
    "id": "g067uP_L9fTH"
   },
   "outputs": [],
   "source": [
    "review_id_df.write.jdbc(url=jdbc_url, table='customer_id', mode=mode, properties=config)"
   ]
  },
  {
   "cell_type": "code",
   "execution_count": null,
   "metadata": {
    "id": "Dx7cYA_H9fWk"
   },
   "outputs": [],
   "source": [
    "review_id_df.write.jdbc(url=jdbc_url, table='product_id', mode=mode, properties=config)"
   ]
  },
  {
   "cell_type": "code",
   "execution_count": null,
   "metadata": {
    "id": "XSNGqAbS9fbM"
   },
   "outputs": [],
   "source": [
    "review_id_df.write.jdbc(url=jdbc_url, table='product_parent', mode=mode, properties=config)"
   ]
  },
  {
   "cell_type": "code",
   "execution_count": null,
   "metadata": {
    "id": "Uhcf59xiN02L"
   },
   "outputs": [],
   "source": [
    "review_id_df.write.jdbc(url=jdbc_url, table='review_date', mode=mode, properties=config)"
   ]
  },
  {
   "cell_type": "code",
   "execution_count": null,
   "metadata": {
    "id": "TEWil5FEN6ww"
   },
   "outputs": [],
   "source": [
    "products_df.write.jdbc(url=jdbc_url, table='PKproduct_id', mode=mode, properties=config)"
   ]
  },
  {
   "cell_type": "code",
   "execution_count": null,
   "metadata": {
    "id": "rfpomiDd9fhY"
   },
   "outputs": [],
   "source": [
    "products_df.write.jdbc(url=jdbc_url, table='product_title', mode=mode, properties=config)"
   ]
  },
  {
   "cell_type": "code",
   "execution_count": null,
   "metadata": {
    "id": "49ClEbxdOKhx"
   },
   "outputs": [],
   "source": [
    "custDF.write.jdbc(url=jdbc_url, table='PKcustomer_id', mode=mode, properties=config)"
   ]
  },
  {
   "cell_type": "code",
   "execution_count": null,
   "metadata": {
    "id": "6fpnQcpmK1Ja"
   },
   "outputs": [],
   "source": [
    "custDF.write.jdbc(url=jdbc_url, table='count', mode=mode, properties=config)"
   ]
  },
  {
   "cell_type": "code",
   "execution_count": null,
   "metadata": {
    "id": "-gRLAvHROk8x"
   },
   "outputs": [],
   "source": [
    "vine_df.write.jdbc(url=jdbc_url, table='PKreview_id', mode=mode, properties=config)"
   ]
  },
  {
   "cell_type": "code",
   "execution_count": null,
   "metadata": {
    "id": "c7-_dsp_9fm2"
   },
   "outputs": [],
   "source": [
    "vine_df.write.jdbc(url=jdbc_url, table='star_rating', mode=mode, properties=config)"
   ]
  },
  {
   "cell_type": "code",
   "execution_count": null,
   "metadata": {
    "id": "lV_e3WcV9fpr"
   },
   "outputs": [],
   "source": [
    "vine_df.write.jdbc(url=jdbc_url, table='helpful_votes', mode=mode, properties=config)"
   ]
  },
  {
   "cell_type": "code",
   "execution_count": null,
   "metadata": {
    "id": "OPjlfrh-9fuG"
   },
   "outputs": [],
   "source": [
    "vine_df.write.jdbc(url=jdbc_url, table='total_votes', mode=mode, properties=config)"
   ]
  },
  {
   "cell_type": "code",
   "execution_count": null,
   "metadata": {
    "id": "zj8pjzzI9fy6"
   },
   "outputs": [],
   "source": [
    "vine_df.write.jdbc(url=jdbc_url, table='vine', mode=mode, properties=config)"
   ]
  },
  {
   "cell_type": "code",
   "execution_count": null,
   "metadata": {
    "id": "Wl7xA5EU9f20"
   },
   "outputs": [],
   "source": []
  }
 ],
 "metadata": {
  "colab": {
   "collapsed_sections": [],
   "provenance": []
  },
  "kernelspec": {
   "display_name": "Python 3 (ipykernel)",
   "language": "python",
   "name": "python3"
  },
  "language_info": {
   "codemirror_mode": {
    "name": "ipython",
    "version": 3
   },
   "file_extension": ".py",
   "mimetype": "text/x-python",
   "name": "python",
   "nbconvert_exporter": "python",
   "pygments_lexer": "ipython3",
   "version": "3.9.12"
  }
 },
 "nbformat": 4,
 "nbformat_minor": 1
}
